{
  "cells": [
    {
      "cell_type": "markdown",
      "metadata": {
        "id": "X8SKRRtFscGV"
      },
      "source": [
        "# Работа со строковыми значениями"
      ]
    },
    {
      "cell_type": "markdown",
      "metadata": {
        "id": "XDUgESIcscGY"
      },
      "source": [
        "__Автор задач: Блохин Н.В. (NVBlokhin@fa.ru)__\n",
        "\n",
        "Материалы:\n",
        "* Макрушин С.В. Лекция \"Работа со строковыми значениям\"\n",
        "* https://pyformat.info/\n",
        "* https://docs.python.org/3/library/re.html\n",
        "    * https://docs.python.org/3/library/re.html#flags\n",
        "    * https://docs.python.org/3/library/re.html#functions\n",
        "* https://pythonru.com/primery/primery-primeneniya-regulyarnyh-vyrazheniy-v-python\n",
        "* https://kanoki.org/2019/11/12/how-to-use-regex-in-pandas/\n",
        "* https://realpython.com/nltk-nlp-python/"
      ]
    },
    {
      "cell_type": "markdown",
      "metadata": {
        "id": "6Pcpp43_scGZ"
      },
      "source": [
        "## Задачи для совместного разбора"
      ]
    },
    {
      "cell_type": "markdown",
      "metadata": {
        "id": "vnBL2fO3scGa"
      },
      "source": [
        "1. Вывести на экран данные из словаря `obj` построчно в виде `k = v`, задав формат таким образом, чтобы знак равенства оказался на одной и той же позиции во всех строках. Строковые литералы обернуть в кавычки."
      ]
    },
    {
      "cell_type": "code",
      "execution_count": 1,
      "metadata": {
        "id": "VWZb_MzEscGa"
      },
      "outputs": [],
      "source": [
        "obj = {\n",
        "    \"home_page\": \"https://github.com/pypa/sampleproject\",\n",
        "    \"keywords\": \"sample setuptools development\",\n",
        "    \"license\": \"MIT\",\n",
        "}"
      ]
    },
    {
      "cell_type": "markdown",
      "metadata": {
        "id": "nhnOzwJHscGb"
      },
      "source": [
        "2. Написать регулярное выражение,которое позволит найти номера групп студентов."
      ]
    },
    {
      "cell_type": "code",
      "execution_count": 2,
      "metadata": {
        "colab": {
          "base_uri": "https://localhost:8080/",
          "height": 183
        },
        "id": "fkM6VxxMscGb",
        "outputId": "4111b8d5-f62c-405f-9e57-9c01df52ff7d"
      },
      "outputs": [
        {
          "output_type": "error",
          "ename": "NameError",
          "evalue": "ignored",
          "traceback": [
            "\u001b[0;31m---------------------------------------------------------------------------\u001b[0m",
            "\u001b[0;31mNameError\u001b[0m                                 Traceback (most recent call last)",
            "\u001b[0;32m<ipython-input-2-9926588a5500>\u001b[0m in \u001b[0;36m<cell line: 1>\u001b[0;34m()\u001b[0m\n\u001b[0;32m----> 1\u001b[0;31m \u001b[0mobj\u001b[0m \u001b[0;34m=\u001b[0m \u001b[0mpd\u001b[0m\u001b[0;34m.\u001b[0m\u001b[0mSeries\u001b[0m\u001b[0;34m(\u001b[0m\u001b[0;34m[\u001b[0m\u001b[0;34m\"Евгения гр.ПМ19-1\"\u001b[0m\u001b[0;34m,\u001b[0m \u001b[0;34m\"Илья пм 20-4\"\u001b[0m\u001b[0;34m,\u001b[0m \u001b[0;34m\"Анна 20-3\"\u001b[0m\u001b[0;34m]\u001b[0m\u001b[0;34m)\u001b[0m\u001b[0;34m\u001b[0m\u001b[0;34m\u001b[0m\u001b[0m\n\u001b[0m\u001b[1;32m      2\u001b[0m \u001b[0mobj\u001b[0m\u001b[0;34m\u001b[0m\u001b[0;34m\u001b[0m\u001b[0m\n",
            "\u001b[0;31mNameError\u001b[0m: name 'pd' is not defined"
          ]
        }
      ],
      "source": [
        "obj = pd.Series([\"Евгения гр.ПМ19-1\", \"Илья пм 20-4\", \"Анна 20-3\"])\n",
        "obj"
      ]
    },
    {
      "cell_type": "markdown",
      "metadata": {
        "id": "UBhhw9uxscGc"
      },
      "source": [
        "3. Разбейте текст формулировки задачи 2 на слова."
      ]
    },
    {
      "cell_type": "markdown",
      "metadata": {
        "id": "sjFliHbhscGd"
      },
      "source": [
        "## Лабораторная работа 6"
      ]
    },
    {
      "cell_type": "markdown",
      "metadata": {
        "id": "dB2Y64jFscGd"
      },
      "source": [
        "### Форматирование строк"
      ]
    },
    {
      "cell_type": "markdown",
      "metadata": {
        "id": "SCexrZmAscGe"
      },
      "source": [
        "1\\. Загрузите данные из файла `recipes_sample.csv` (__ЛР2__) в виде `pd.DataFrame` `recipes` При помощи форматирования строк выведите информацию об id рецепта и времени выполнения 5 случайных рецептов в виде таблицы следующего вида:\n",
        "\n",
        "    \n",
        "    |      id      |  minutes  |\n",
        "    |--------------------------|\n",
        "    |    61178     |    65     |\n",
        "    |    202352    |    80     |\n",
        "    |    364322    |    150    |\n",
        "    |    26177     |    20     |\n",
        "    |    224785    |    35     |\n",
        "    \n",
        "Обратите внимание, что ширина столбцов заранее неизвестна и должна рассчитываться динамически, в зависимости от тех данных, которые были выбраны. "
      ]
    },
    {
      "cell_type": "code",
      "source": [
        "import pandas as pd\n",
        "import random\n",
        "\n",
        "recipes = pd.read_csv(\"recipes_sample.csv\")\n",
        "\n",
        "random_ids = random.sample(range(len(recipes)), 5)\n",
        "\n",
        "print(\"|{:^12}|{:^10}|\".format(\"id\", \"minutes\"))\n",
        "print(\"--------------------\")\n",
        "for i in random_ids:\n",
        "    print(\"|{:^12}|{:^10}|\".format(recipes.loc[i, \"id\"], recipes.loc[i, \"minutes\"]))"
      ],
      "metadata": {
        "colab": {
          "base_uri": "https://localhost:8080/"
        },
        "id": "YIfWK-hqtRmK",
        "outputId": "de5376a1-4f2b-4c80-83ae-7ab931efde84"
      },
      "execution_count": 15,
      "outputs": [
        {
          "output_type": "stream",
          "name": "stdout",
          "text": [
            "|     id     | minutes  |\n",
            "--------------------\n",
            "|   120391   |   320    |\n",
            "|   104098   |    35    |\n",
            "|   214395   |    90    |\n",
            "|   255425   |    10    |\n",
            "|   33508    |    27    |\n"
          ]
        }
      ]
    },
    {
      "cell_type": "markdown",
      "metadata": {
        "id": "NH0iBDsIscGe"
      },
      "source": [
        "2\\. Напишите функцию `show_info`, которая по данным о рецепте создает строку (в смысле объекта python) с описанием следующего вида:\n",
        "\n",
        "```\n",
        "\"Название Из Нескольких Слов\"\n",
        "\n",
        "1. Шаг 1\n",
        "2. Шаг 2\n",
        "----------\n",
        "Автор: contributor_id\n",
        "Среднее время приготовления: minutes минут\n",
        "```\n",
        "\n",
        "    \n",
        "Данные для создания строки получите из файлов `recipes_sample.csv` (__ЛР2__) и `steps_sample.xml` (__ЛР3__). \n",
        "Вызовите данную функцию для рецепта с id `170895` и выведите (через `print`) полученную строку на экран."
      ]
    },
    {
      "cell_type": "code",
      "source": [
        "def show_info(name, steps, minutes, author_id):\n",
        "    title = name.title()\n",
        "    steps_str = \"\\n\".join([f\"{i + 1}. {step}\" for i, step in enumerate(steps)])\n",
        "    \n",
        "    return f'\"{title}\"\\n\\n{steps_str}\\n----------\\nАвтор: {author_id}\\nСреднее время приготовления: {minutes} минут\\n'\n",
        "\n",
        "print(show_info(\"george s at the cove black bean soup\", [\"clean the leeks and discard the dark green portions\", \"cut the leeks lengthwise then into one-inch pieces\", \"melt the butter in a medium skillet , med\"], 90, 35193))"
      ],
      "metadata": {
        "colab": {
          "base_uri": "https://localhost:8080/"
        },
        "id": "_HFqMe5UtW7G",
        "outputId": "11393d7a-19cf-4ec7-fb3d-a34dab7ee10f"
      },
      "execution_count": 16,
      "outputs": [
        {
          "output_type": "stream",
          "name": "stdout",
          "text": [
            "\"George S At The Cove Black Bean Soup\"\n",
            "\n",
            "1. clean the leeks and discard the dark green portions\n",
            "2. cut the leeks lengthwise then into one-inch pieces\n",
            "3. melt the butter in a medium skillet , med\n",
            "----------\n",
            "Автор: 35193\n",
            "Среднее время приготовления: 90 минут\n",
            "\n"
          ]
        }
      ]
    },
    {
      "cell_type": "code",
      "execution_count": 17,
      "metadata": {
        "colab": {
          "base_uri": "https://localhost:8080/",
          "height": 235
        },
        "id": "CeVOGM5VscGe",
        "outputId": "d708e2ac-d842-4530-8e79-3131f42147f7"
      },
      "outputs": [
        {
          "output_type": "error",
          "ename": "AssertionError",
          "evalue": "ignored",
          "traceback": [
            "\u001b[0;31m---------------------------------------------------------------------------\u001b[0m",
            "\u001b[0;31mAssertionError\u001b[0m                            Traceback (most recent call last)",
            "\u001b[0;32m<ipython-input-17-4f774dfc1f58>\u001b[0m in \u001b[0;36m<cell line: 2>\u001b[0;34m()\u001b[0m\n\u001b[0;32m----> 1\u001b[0;31m assert (\n\u001b[0m\u001b[1;32m      2\u001b[0m     show_info(\n\u001b[1;32m      3\u001b[0m         \u001b[0mname\u001b[0m\u001b[0;34m=\u001b[0m\u001b[0;34m\"george s at the cove black bean soup\"\u001b[0m\u001b[0;34m,\u001b[0m\u001b[0;34m\u001b[0m\u001b[0;34m\u001b[0m\u001b[0m\n\u001b[1;32m      4\u001b[0m         steps=[\n\u001b[1;32m      5\u001b[0m             \u001b[0;34m\"clean the leeks and discard the dark green portions\"\u001b[0m\u001b[0;34m,\u001b[0m\u001b[0;34m\u001b[0m\u001b[0;34m\u001b[0m\u001b[0m\n",
            "\u001b[0;31mAssertionError\u001b[0m: "
          ]
        }
      ],
      "source": [
        "assert (\n",
        "    show_info(\n",
        "        name=\"george s at the cove black bean soup\",\n",
        "        steps=[\n",
        "            \"clean the leeks and discard the dark green portions\",\n",
        "            \"cut the leeks lengthwise then into one-inch pieces\",\n",
        "            \"melt the butter in a medium skillet , med\",\n",
        "        ],\n",
        "        minutes=90,\n",
        "        author_id=35193,\n",
        "    )\n",
        "    == '\"George S At The Cove Black Bean Soup\"\\n\\n1. Clean the leeks and discard the dark green portions\\n2. Cut the leeks lengthwise then into one-inch pieces\\n3. Melt the butter in a medium skillet , med\\n----------\\nАвтор: 35193\\nСреднее время приготовления: 90 минут\\n'\n",
        ")"
      ]
    },
    {
      "cell_type": "markdown",
      "metadata": {
        "id": "EH2qshKjscGf"
      },
      "source": [
        "## Работа с регулярными выражениями"
      ]
    },
    {
      "cell_type": "code",
      "source": [
        "import pandas as pd\n",
        "import numpy as np\n",
        "import re\n",
        "from xml.etree import ElementTree\n",
        "import nltk\n",
        "\n",
        "# Загрузка данных из файла recipes_sample.csv\n",
        "recipes = pd.read_csv('recipes_sample.csv', usecols=['id', 'description'])\n",
        "\n",
        "# Загрузка данных из файла steps_sample.xml\n",
        "tree = ElementTree.parse('steps_sample.xml')\n",
        "root = tree.getroot()\n",
        "\n",
        "# Получение шагов для каждого рецепта\n",
        "steps_data = []\n",
        "for recipe in root.findall('recipe'):\n",
        "    recipe_id = int(recipe.find('id').text)\n",
        "    steps = ' '.join([step.text for step in recipe.find('steps')])\n",
        "    steps_data.append((recipe_id, steps))\n",
        "\n",
        "# Создание DataFrame с шагами\n",
        "steps_df = pd.DataFrame(steps_data, columns=['id', 'steps'])\n",
        "\n",
        "# Объединение двух DataFrame\n",
        "recipes = recipes.merge(steps_df, on='id')"
      ],
      "metadata": {
        "id": "GdN-UaB2wgIP"
      },
      "execution_count": 31,
      "outputs": []
    },
    {
      "cell_type": "markdown",
      "metadata": {
        "id": "CQe8vPMKscGf"
      },
      "source": [
        "3\\. Напишите регулярное выражение, которое ищет следующий паттерн в строке: число (1 цифра или более), затем пробел, затем слова: hour или hours или minute или minutes. Произведите поиск по данному регулярному выражению в каждом шаге рецепта с id 25082. Выведите на экран все непустые результаты, найденные по данному шаблону."
      ]
    },
    {
      "cell_type": "code",
      "source": [
        "# Регулярное выражение для поиска\n",
        "pattern = r'\\d+\\s(?:hour|hours|minute|minutes)'\n",
        "\n",
        "# Найдем шаги рецепта с id 25082\n",
        "recipe_25082_steps = recipes.loc[recipes['id'] == 25082, 'steps'].iloc[0]\n",
        "\n",
        "# Поиск по регулярному выражению\n",
        "matches = re.findall(pattern, recipe_25082_steps)\n",
        "\n",
        "# Вывод результатов\n",
        "print(matches)"
      ],
      "metadata": {
        "colab": {
          "base_uri": "https://localhost:8080/"
        },
        "id": "0sp3YExStjM5",
        "outputId": "d9d307dc-90ef-4297-d6f8-a447d48184a6"
      },
      "execution_count": 32,
      "outputs": [
        {
          "output_type": "stream",
          "name": "stdout",
          "text": [
            "['20 minute', '10 minute', '2 hour', '10 minute', '20 minute', '30 minute']\n"
          ]
        }
      ]
    },
    {
      "cell_type": "markdown",
      "metadata": {
        "id": "junAKBYzscGf"
      },
      "source": [
        "4\\. Напишите регулярное выражение, которое ищет шаблон вида \"this..., but\" _в начале строки_ . Между словом \"this\" и частью \", but\" может находиться произвольное число букв, цифр, знаков подчеркивания и пробелов. Никаких других символов вместо многоточия быть не может. Пробел между запятой и словом \"but\" может присутствовать или отсутствовать.\n",
        "\n",
        "Используя строковые методы `pd.Series`, выясните, для каких рецептов данный шаблон содержится в тексте описания. Выведите на экран количество таких рецептов и 3 примера подходящих описаний (текст описания должен быть виден на экране полностью)."
      ]
    },
    {
      "cell_type": "code",
      "source": [
        "# Замена пропущенных значений пустыми строками\n",
        "recipes['description'].fillna('', inplace=True)"
      ],
      "metadata": {
        "id": "qjFtIMdS8zay"
      },
      "execution_count": 40,
      "outputs": []
    },
    {
      "cell_type": "code",
      "source": [
        "# Регулярное выражение для поиска\n",
        "pattern = r'^this[^.,;!?]*, ?but'\n",
        "\n",
        "# Функция для проверки соответствия шаблону\n",
        "def match_pattern(description):\n",
        "    return bool(re.match(pattern, description))\n",
        "\n",
        "# Фильтрация и вывод результатов\n",
        "matching_recipes = recipes[recipes['description'].apply(match_pattern)]\n",
        "print(f\"Количество рецептов, соответствующих шаблону: {len(matching_recipes)}\")\n",
        "print(\"Примеры описаний:\")\n",
        "print(matching_recipes['description'].head(3))"
      ],
      "metadata": {
        "colab": {
          "base_uri": "https://localhost:8080/"
        },
        "id": "MvSZr5rStomw",
        "outputId": "dfc0289d-92e4-4031-f86b-62cab1f4648b"
      },
      "execution_count": 41,
      "outputs": [
        {
          "output_type": "stream",
          "name": "stdout",
          "text": [
            "Количество рецептов, соответствующих шаблону: 166\n",
            "Примеры описаний:\n",
            "76     this is a great meal eaten the same day ,but e...\n",
            "183    this was adapted from a recipe i found on the ...\n",
            "337    this is kind of similar to some of the other v...\n",
            "Name: description, dtype: object\n"
          ]
        }
      ]
    },
    {
      "cell_type": "markdown",
      "metadata": {
        "id": "ymg7AK_nscGg"
      },
      "source": [
        "5\\. В текстах шагов рецептов обыкновенные дроби имеют вид \"a / b\". Используя регулярные выражения, уберите в тексте шагов рецепта с id 72367 пробелы до и после символа дроби. Выведите на экран шаги этого рецепта после их изменения."
      ]
    },
    {
      "cell_type": "code",
      "source": [
        "# Регулярное выражение для поиска\n",
        "pattern = r'\\s*/\\s*'\n",
        "\n",
        "# Найдем шаги рецепта с id 72367\n",
        "recipe_72367_steps = recipes.loc[recipes['id'] == 72367, 'steps'].iloc[0]\n",
        "\n",
        "# Удаление пробелов вокруг символа дроби\n",
        "modified_steps = re.sub(pattern, '/', recipe_72367_steps)\n",
        "\n",
        "# Вывод результатов\n",
        "print(modified_steps)"
      ],
      "metadata": {
        "colab": {
          "base_uri": "https://localhost:8080/"
        },
        "id": "GHcHWVPzts0A",
        "outputId": "ceabe237-24c1-40ed-fb57-d090abf43b76"
      },
      "execution_count": 34,
      "outputs": [
        {
          "output_type": "stream",
          "name": "stdout",
          "text": [
            "mix butter , flour , 1/3 c sugar and 1-1/4 t vanilla press into greased 9\" springform pan mix cream cheese , 1/4 c sugar , eggs and 1/2 t vanilla beating until fluffy pour over dough combine apples , 1/3 c sugar and cinnamon arrange on top of cream cheese mixture and sprinkle with almonds bake at 350 for 45-55 minutes , or until tester comes out clean\n"
          ]
        }
      ]
    },
    {
      "cell_type": "markdown",
      "metadata": {
        "id": "VDMBmTwdscGg"
      },
      "source": [
        "### Сегментация текста"
      ]
    },
    {
      "cell_type": "markdown",
      "metadata": {
        "id": "QKPbFwLascGg"
      },
      "source": [
        "6\\. Разбейте тексты шагов рецептов на слова при помощи пакета `nltk`. Посчитайте и выведите на экран кол-во уникальных слов среди всех рецептов. Словом называется любая последовательность алфавитных символов (для проверки можно воспользоваться `str.isalpha`). При подсчете количества уникальных слов не учитывайте регистр."
      ]
    },
    {
      "cell_type": "code",
      "source": [
        "# Разбиение текста на слова\n",
        "words = nltk.word_tokenize(' '.join(recipes['steps']))\n",
        "\n",
        "# Фильтрация алфавитных слов и приведение к нижнему регистру\n",
        "words = [word.lower() for word in words if word.isalpha()]\n",
        "\n",
        "# Подсчет уникальных слов\n",
        "unique_words = len(set(words))\n",
        "\n",
        "# Вывод результатов\n",
        "print(f\"Количество уникальных слов: {unique_words}\")"
      ],
      "metadata": {
        "colab": {
          "base_uri": "https://localhost:8080/"
        },
        "id": "TkLxzboeugC6",
        "outputId": "107ddf82-ce2d-4a48-c3a0-b03e4a237701"
      },
      "execution_count": 35,
      "outputs": [
        {
          "output_type": "stream",
          "name": "stdout",
          "text": [
            "Количество уникальных слов: 14926\n"
          ]
        }
      ]
    },
    {
      "cell_type": "markdown",
      "metadata": {
        "id": "5Tvu2-3RscGg"
      },
      "source": [
        "7\\. Разбейте описания рецептов из `recipes` на предложения при помощи пакета `nltk`. Найдите 5 самых длинных описаний (по количеству _предложений_) рецептов в датасете и выведите строки фрейма, соответствующие этим рецептами, в порядке убывания длины."
      ]
    },
    {
      "cell_type": "code",
      "source": [
        "from nltk.tokenize import sent_tokenize\n",
        "\n",
        "# Разбиение описаний на предложения\n",
        "recipes['sentences'] = recipes['description'].apply(sent_tokenize)\n",
        "\n",
        "# Подсчет количества предложений\n",
        "recipes['num_sentences'] = recipes['sentences'].apply(len)\n",
        "\n",
        "# Вывод 5 самых длинных описаний\n",
        "longest_descriptions = recipes.nlargest(5, 'num_sentences')\n",
        "print(longest_descriptions)"
      ],
      "metadata": {
        "colab": {
          "base_uri": "https://localhost:8080/"
        },
        "id": "wrwlG6BHukKo",
        "outputId": "101cbbca-6a12-462d-f771-294a28833867"
      },
      "execution_count": 39,
      "outputs": [
        {
          "output_type": "stream",
          "name": "stdout",
          "text": [
            "           id                                        description  \\\n",
            "18408  334113  this wonderful icing is used for icing cakes a...   \n",
            "481    287008  a translucent golden-brown crust allows the gr...   \n",
            "22566  328708  this is one of the best soups i've ever made a...   \n",
            "6779   205348  i wrote this because there are an astounding l...   \n",
            "16296  316000  the first time i made this cake i grated a mil...   \n",
            "\n",
            "                                                   steps  \\\n",
            "18408  you can purchase meringue powder at your local...   \n",
            "481    dip: put the crme frache into a medium-sized m...   \n",
            "22566  in a soup pot on med heat , melt 1 stick of bu...   \n",
            "6779   place water and mints into pot or sauce pan an...   \n",
            "16296  sift dry ingredients into a large mixer bowl a...   \n",
            "\n",
            "                                               sentences  num_sentences  \n",
            "18408  [this wonderful icing is used for icing cakes ...             76  \n",
            "481    [a translucent golden-brown crust allows the g...             27  \n",
            "22566  [this is one of the best soups i've ever made ...             24  \n",
            "6779   [i wrote this because there are an astounding ...             23  \n",
            "16296  [the first time i made this cake i grated a mi...             23  \n"
          ]
        }
      ]
    },
    {
      "cell_type": "markdown",
      "metadata": {
        "id": "XcrqUJBXscGg"
      },
      "source": [
        "8\\. Напишите функцию, которая для заданного предложения выводит информацию о частях речи слов, входящих в предложение, в следующем виде:\n",
        "```\n",
        "PRP   VBD   DT      NNS     CC   VBD      NNS        RB   \n",
        " I  omitted the raspberries and added strawberries instead\n",
        "``` \n",
        "Для определения части речи слова можно воспользоваться `nltk.pos_tag`.\n",
        "\n",
        "Проверьте работоспособность функции на названии рецепта с id 241106.\n",
        "\n",
        "Обратите внимание, что часть речи должна находиться ровно посередине над соотвествующим словом, а между самими словами должен быть ровно один пробел.\n"
      ]
    },
    {
      "cell_type": "code",
      "execution_count": 37,
      "metadata": {
        "colab": {
          "base_uri": "https://localhost:8080/"
        },
        "id": "EA3V8iQNscGh",
        "outputId": "de78f7ac-ed71-4ce8-d25e-322a12cd933b"
      },
      "outputs": [
        {
          "output_type": "stream",
          "name": "stdout",
          "text": [
            "DT    VBP DT RB     JJ   NN    NN   TO VB   IN DT  NN         WRB  JJ    NNS   VBP  JJ    NN       CC  NNS      VBG    IN . DT  VBG     VBN   VBZ DT NN         , CC  EX    VBP RB        JJ   JJR  NNS  TO VB    DT   NN   . VB    IN  IN   DT  JJ       NNS    CC  RB   VB  IN   WP   VBZ    JJ   TO PRP .\n",
            "these are a really good quick meal to make in the summertime when local farms have fresh eggplant and tomatoes coming in.  the topping given is a suggestion, but there are certainly many more ways to enjoy this dish.  start out with the eggplant steaks and then top with what sounds good to you.\n"
          ]
        }
      ],
      "source": [
        "def display_pos(sentence):\n",
        "    words = nltk.word_tokenize(sentence)\n",
        "    pos_tags = nltk.pos_tag(words)\n",
        "    formatted_tags = [tag.ljust(len(word)) for (word, tag) in pos_tags]\n",
        "    print(' '.join(formatted_tags))\n",
        "    print(sentence)\n",
        "\n",
        "# Найдем название рецепта с id 241106\n",
        "recipe_241106_title = recipes.loc[recipes['id'] == 241106, 'description'].iloc[0]\n",
        "\n",
        "# Вывод частей речи для названия рецепта\n",
        "display_pos(recipe_241106_title)"
      ]
    }
  ],
  "metadata": {
    "kernelspec": {
      "display_name": "Python 3 (ipykernel)",
      "language": "python",
      "name": "python3"
    },
    "language_info": {
      "codemirror_mode": {
        "name": "ipython",
        "version": 3
      },
      "file_extension": ".py",
      "mimetype": "text/x-python",
      "name": "python",
      "nbconvert_exporter": "python",
      "pygments_lexer": "ipython3",
      "version": "3.9.7"
    },
    "colab": {
      "provenance": []
    }
  },
  "nbformat": 4,
  "nbformat_minor": 0
}